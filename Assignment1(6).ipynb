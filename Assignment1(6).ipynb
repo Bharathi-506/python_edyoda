{
 "cells": [
  {
   "cell_type": "code",
   "execution_count": 3,
   "id": "64bbf6bf",
   "metadata": {},
   "outputs": [
    {
     "name": "stdout",
     "output_type": "stream",
     "text": [
      "ABC/-AK/L-*\n"
     ]
    }
   ],
   "source": [
    "s = \"*-A/BC-/AKL\"\n",
    " \n",
    "# Stack for storing operands\n",
    "stack = []\n",
    " \n",
    "operators = set(['+', '-', '*', '/', '^'])\n",
    " \n",
    "# Reversing the order\n",
    "s = s[::-1]\n",
    " \n",
    "# iterating through individual tokens\n",
    "for i in s:\n",
    " \n",
    "    # if token is operator\n",
    "    if i in operators:\n",
    " \n",
    "        # pop 2 elements from stack\n",
    "        a = stack.pop()\n",
    "        b = stack.pop()\n",
    " \n",
    "        # concatenate them as operand1 +\n",
    "        # operand2 + operator\n",
    "        temp = a+b+i\n",
    "        stack.append(temp)\n",
    " \n",
    "    # else if operand\n",
    "    else:\n",
    "        stack.append(i)\n",
    " \n",
    "\n",
    "print(*stack)"
   ]
  },
  {
   "cell_type": "code",
   "execution_count": null,
   "id": "41d2015d",
   "metadata": {},
   "outputs": [],
   "source": []
  }
 ],
 "metadata": {
  "kernelspec": {
   "display_name": "Python 3 (ipykernel)",
   "language": "python",
   "name": "python3"
  },
  "language_info": {
   "codemirror_mode": {
    "name": "ipython",
    "version": 3
   },
   "file_extension": ".py",
   "mimetype": "text/x-python",
   "name": "python",
   "nbconvert_exporter": "python",
   "pygments_lexer": "ipython3",
   "version": "3.11.1"
  }
 },
 "nbformat": 4,
 "nbformat_minor": 5
}
