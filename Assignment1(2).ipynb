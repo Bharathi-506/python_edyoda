{
 "cells": [
  {
   "cell_type": "code",
   "execution_count": 8,
   "id": "ef04b9c6",
   "metadata": {},
   "outputs": [
    {
     "name": "stdout",
     "output_type": "stream",
     "text": [
      "Original Array:array('i', [1, 3, 5, 7, 9])\n",
      "Reversed Array:\n",
      "array('i', [9, 7, 5, 3, 1])\n"
     ]
    }
   ],
   "source": [
    "from array import*\n",
    "array_num = array(\"i\", [1,3,5,7,9])\n",
    "print(\"Original Array:\"+str(array_num))\n",
    "array_num.reverse()\n",
    "print(\"Reversed Array:\")\n",
    "print(str(array_num))"
   ]
  },
  {
   "cell_type": "code",
   "execution_count": null,
   "id": "e7bdadb9",
   "metadata": {},
   "outputs": [],
   "source": []
  }
 ],
 "metadata": {
  "kernelspec": {
   "display_name": "Python 3 (ipykernel)",
   "language": "python",
   "name": "python3"
  },
  "language_info": {
   "codemirror_mode": {
    "name": "ipython",
    "version": 3
   },
   "file_extension": ".py",
   "mimetype": "text/x-python",
   "name": "python",
   "nbconvert_exporter": "python",
   "pygments_lexer": "ipython3",
   "version": "3.11.1"
  }
 },
 "nbformat": 4,
 "nbformat_minor": 5
}
